{
  "nbformat": 4,
  "nbformat_minor": 0,
  "metadata": {
    "colab": {
      "provenance": []
    },
    "kernelspec": {
      "name": "python3",
      "display_name": "Python 3"
    },
    "language_info": {
      "name": "python"
    }
  },
  "cells": [
    {
      "cell_type": "markdown",
      "source": [
        "**Classification using Logistic Regression**"
      ],
      "metadata": {
        "id": "qqrBkcq246au"
      }
    },
    {
      "cell_type": "code",
      "source": [
        "import numpy as np\n",
        "import pandas as pd\n",
        "import matplotlib.pyplot as plt\n",
        "from sklearn.model_selection import train_test_split\n",
        "from sklearn.metrics import accuracy_score,confusion_matrix\n",
        "\n",
        "aa=pd.read_csv('People Charm case.csv')\n",
        "a = pd.get_dummies(aa,drop_first=True)\n",
        "clist = list(a.columns)\n",
        "features=list(set(clist)-set(['left']))\n",
        "y = a['left'].values\n",
        "x = a[features].values\n",
        "train_x,test_x,train_y,test_y = train_test_split(x,y,test_size=0.25,random_state=0)\n"
      ],
      "metadata": {
        "id": "plZLSIhj1_i4"
      },
      "execution_count": 2,
      "outputs": []
    },
    {
      "cell_type": "code",
      "source": [
        "from sklearn.linear_model import LogisticRegression\n",
        "model2= LogisticRegression()\n",
        "model2.fit(train_x,train_y)\n",
        "prediction = model2.predict(test_x)\n",
        "confusion_matrx= confusion_matrix(test_y,prediction)\n",
        "print(confusion_matrx)\n",
        "accuracy = accuracy_score(test_y,prediction)\n",
        "print(accuracy)\n",
        "print('Misclassified:%d' % (test_y != prediction).sum())"
      ],
      "metadata": {
        "id": "x4T3_QlE4USq",
        "colab": {
          "base_uri": "https://localhost:8080/"
        },
        "outputId": "dfb86532-d06b-47ef-9ba9-37af1108d1a8"
      },
      "execution_count": 3,
      "outputs": [
        {
          "output_type": "stream",
          "name": "stdout",
          "text": [
            "[[2626  211]\n",
            " [ 566  347]]\n",
            "0.7928\n",
            "Misclassified:777\n"
          ]
        },
        {
          "output_type": "stream",
          "name": "stderr",
          "text": [
            "/usr/local/lib/python3.7/dist-packages/sklearn/linear_model/_logistic.py:818: ConvergenceWarning: lbfgs failed to converge (status=1):\n",
            "STOP: TOTAL NO. of ITERATIONS REACHED LIMIT.\n",
            "\n",
            "Increase the number of iterations (max_iter) or scale the data as shown in:\n",
            "    https://scikit-learn.org/stable/modules/preprocessing.html\n",
            "Please also refer to the documentation for alternative solver options:\n",
            "    https://scikit-learn.org/stable/modules/linear_model.html#logistic-regression\n",
            "  extra_warning_msg=_LOGISTIC_SOLVER_CONVERGENCE_MSG,\n"
          ]
        }
      ]
    },
    {
      "cell_type": "code",
      "source": [
        "import matplotlib.pyplot as plt\n",
        "import seaborn as sns\n",
        "#sns.heatmap(confusion_matrx, annot=True)\n",
        "plt.figure(figsize = (12,10))\n",
        "sns.heatmap(confusion_matrx/np.sum(confusion_matrx), annot=True, \n",
        "            fmt='.6%', cmap='Greens')"
      ],
      "metadata": {
        "colab": {
          "base_uri": "https://localhost:8080/",
          "height": 612
        },
        "id": "GnM9YjAMds99",
        "outputId": "4eb8a885-7328-41af-a3e9-4360a792e4d2"
      },
      "execution_count": 4,
      "outputs": [
        {
          "output_type": "execute_result",
          "data": {
            "text/plain": [
              "<matplotlib.axes._subplots.AxesSubplot at 0x7fb3b160a8d0>"
            ]
          },
          "metadata": {},
          "execution_count": 4
        },
        {
          "output_type": "display_data",
          "data": {
            "text/plain": [
              "<Figure size 864x720 with 2 Axes>"
            ],
            "image/png": "[encoded data removed]"
          },
          "metadata": {
            "needs_background": "light"
          }
        }
      ]
    }
  ]
}