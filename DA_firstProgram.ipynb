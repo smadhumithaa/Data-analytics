{
  "nbformat": 4,
  "nbformat_minor": 0,
  "metadata": {
    "colab": {
      "provenance": []
    },
    "kernelspec": {
      "name": "python3",
      "display_name": "Python 3"
    },
    "language_info": {
      "name": "python"
    }
  },
  "cells": [
    {
      "cell_type": "code",
      "execution_count": 1,
      "metadata": {
        "colab": {
          "base_uri": "https://localhost:8080/"
        },
        "id": "1zLtjEQ8K-xO",
        "outputId": "fe04777c-276d-437c-a1f8-94ef82cf1eab"
      },
      "outputs": [
        {
          "output_type": "stream",
          "name": "stdout",
          "text": [
            "   Price   Age     KM FuelType  HP  MetColor  Automatic    CC  Doors  Weight\n",
            "0  13500  23.0  46986   Diesel  90       1.0          0  2000  three    1165\n",
            "1  13750  23.0  72937   Diesel  90       1.0          0  2000      3    1165\n",
            "2  13950  24.0  41711   Diesel  90       NaN          0  2000      3    1165\n",
            "3  14950  26.0  48000   Diesel  90       0.0          0  2000      3    1165\n",
            "4  13750  30.0  38500   Diesel  90       0.0          0  2000      3    1170\n",
            "      Price   Age     KM FuelType   HP  MetColor  Automatic    CC Doors  \\\n",
            "1431   7500   NaN  20544   Petrol   86       1.0          0  1300     3   \n",
            "1432  10845  72.0     ??   Petrol   86       0.0          0  1300     3   \n",
            "1433   8500   NaN  17016   Petrol   86       0.0          0  1300     3   \n",
            "1434   7250  70.0     ??      NaN   86       1.0          0  1300     3   \n",
            "1435   6950  76.0      1   Petrol  110       0.0          0  1600     5   \n",
            "\n",
            "      Weight  \n",
            "1431    1025  \n",
            "1432    1015  \n",
            "1433    1015  \n",
            "1434    1015  \n",
            "1435    1114  \n"
          ]
        }
      ],
      "source": [
        "import pandas as pd\n",
        "data = pd.read_csv('Toyota.csv',index_col=0)\n",
        "print(data.head())\n",
        "print(data.tail())"
      ]
    },
    {
      "cell_type": "code",
      "source": [
        "import pandas as pd\n",
        "data = pd.read_csv('Toyota.csv',index_col=0)\n",
        "print('Column labels:',data.columns)\n",
        "print('Size of the dataset:',data.size)\n",
        "print('Shape of the dataset:',data.shape)\n",
        "print('Data type of columns:\\n',data.dtypes)"
      ],
      "metadata": {
        "colab": {
          "base_uri": "https://localhost:8080/"
        },
        "id": "r3JgSEh7LB0H",
        "outputId": "3271d98f-e767-4938-aec3-49a7ddf3f8d5"
      },
      "execution_count": 2,
      "outputs": [
        {
          "output_type": "stream",
          "name": "stdout",
          "text": [
            "Column labels: Index(['Price', 'Age', 'KM', 'FuelType', 'HP', 'MetColor', 'Automatic', 'CC',\n",
            "       'Doors', 'Weight'],\n",
            "      dtype='object')\n",
            "Size of the dataset: 14360\n",
            "Shape of the dataset: (1436, 10)\n",
            "Data type of columns:\n",
            " Price          int64\n",
            "Age          float64\n",
            "KM            object\n",
            "FuelType      object\n",
            "HP            object\n",
            "MetColor     float64\n",
            "Automatic      int64\n",
            "CC             int64\n",
            "Doors         object\n",
            "Weight         int64\n",
            "dtype: object\n"
          ]
        }
      ]
    },
    {
      "cell_type": "code",
      "source": [
        "import pandas as pd\n",
        "data = pd.read_csv('Toyota.csv',index_col=0)\n",
        "e = pd.unique(data['Doors'])\n",
        "print('Unique values in the variable, Doors:',e)\n",
        "data['Doors'].replace('three',3,inplace=True)\n",
        "data['Doors'].replace('four',4,inplace=True)\n",
        "data['Doors'].replace('five',5,inplace=True)\n",
        "f = pd.unique(data['Doors'])\n",
        "print('Unique values in the variable, Doors after replacing:',f)"
      ],
      "metadata": {
        "colab": {
          "base_uri": "https://localhost:8080/"
        },
        "id": "EnWLfuPNLDzf",
        "outputId": "e04e4202-83c6-49e4-cbae-c6d26087b1ba"
      },
      "execution_count": 3,
      "outputs": [
        {
          "output_type": "stream",
          "name": "stdout",
          "text": [
            "Unique values in the variable, Doors: ['three' '3' '5' '4' 'four' 'five' '2']\n",
            "Unique values in the variable, Doors after replacing: [3 '3' '5' '4' 4 5 '2']\n"
          ]
        }
      ]
    },
    {
      "cell_type": "code",
      "source": [
        "print('Original Datatype of the variable Doors:',data['Doors'].dtype)\n",
        "data['Doors']=data['Doors'].astype('int64')\n",
        "print('New Datatype of the variable Doors:',data['Doors'].dtype)"
      ],
      "metadata": {
        "colab": {
          "base_uri": "https://localhost:8080/"
        },
        "id": "3-hUGQGELFvg",
        "outputId": "2c5fd66f-747e-44cc-80fc-4bf6042c1d1e"
      },
      "execution_count": 4,
      "outputs": [
        {
          "output_type": "stream",
          "name": "stdout",
          "text": [
            "Original Datatype of the variable Doors: object\n",
            "New Datatype of the variable Doors: int64\n"
          ]
        }
      ]
    },
    {
      "cell_type": "code",
      "source": [
        "data.insert(10,'PRange','')\n",
        "print(data.columns)\n",
        "for i in range(0,len(data['Price'])):\n",
        "  if (data['Price'][i]<=8450):\n",
        "    data['PRange'][i]='Low'\n",
        "  elif ((data['Price'][i]>11950)):\n",
        "    data['PRange'][i]='High'\n",
        "  else:\n",
        "    data['PRange'][i]='Medium'\n",
        "f = pd.unique(data['PRange'])\n",
        "print('Unique values in the variable, PRange:',f)"
      ],
      "metadata": {
        "colab": {
          "base_uri": "https://localhost:8080/"
        },
        "id": "aT2ZJCnjLIMH",
        "outputId": "7c0c1a3b-fc73-47da-d61a-bfe046974312"
      },
      "execution_count": 6,
      "outputs": [
        {
          "output_type": "stream",
          "name": "stdout",
          "text": [
            "Index(['Price', 'Age', 'KM', 'FuelType', 'HP', 'MetColor', 'Automatic', 'CC',\n",
            "       'Doors', 'Weight', 'PRange'],\n",
            "      dtype='object')\n"
          ]
        },
        {
          "output_type": "stream",
          "name": "stderr",
          "text": [
            "/usr/local/lib/python3.7/dist-packages/ipykernel_launcher.py:7: SettingWithCopyWarning: \n",
            "A value is trying to be set on a copy of a slice from a DataFrame\n",
            "\n",
            "See the caveats in the documentation: https://pandas.pydata.org/pandas-docs/stable/user_guide/indexing.html#returning-a-view-versus-a-copy\n",
            "  import sys\n",
            "/usr/local/lib/python3.7/dist-packages/ipykernel_launcher.py:5: SettingWithCopyWarning: \n",
            "A value is trying to be set on a copy of a slice from a DataFrame\n",
            "\n",
            "See the caveats in the documentation: https://pandas.pydata.org/pandas-docs/stable/user_guide/indexing.html#returning-a-view-versus-a-copy\n",
            "  \"\"\"\n",
            "/usr/local/lib/python3.7/dist-packages/ipykernel_launcher.py:9: SettingWithCopyWarning: \n",
            "A value is trying to be set on a copy of a slice from a DataFrame\n",
            "\n",
            "See the caveats in the documentation: https://pandas.pydata.org/pandas-docs/stable/user_guide/indexing.html#returning-a-view-versus-a-copy\n",
            "  if __name__ == '__main__':\n"
          ]
        },
        {
          "output_type": "stream",
          "name": "stdout",
          "text": [
            "Unique values in the variable, PRange: ['High' 'Low' 'Medium']\n"
          ]
        }
      ]
    },
    {
      "cell_type": "code",
      "source": [
        "import pandas as pd\n",
        "countries = {'Country':['Spain', 'France', 'Spain', 'Germany', 'France']}\n",
        "df = pd.DataFrame(countries)\n",
        "y = pd.get_dummies(df)\n",
        "print('Data:\\n',df)\n",
        "print('Data after One-Hot encoding:\\n',y)\n",
        "df['Country'].replace('France',0,inplace=True)\n",
        "df['Country'].replace('Germany',1,inplace=True)\n",
        "df['Country'].replace('Spain',2,inplace=True)\n",
        "print('Data after Label encoding:\\n',df)"
      ],
      "metadata": {
        "colab": {
          "base_uri": "https://localhost:8080/"
        },
        "id": "9ArNOZCLLJ8A",
        "outputId": "641bd66a-ae7c-47c7-d1d8-c11fa00347d6"
      },
      "execution_count": 7,
      "outputs": [
        {
          "output_type": "stream",
          "name": "stdout",
          "text": [
            "Data:\n",
            "    Country\n",
            "0    Spain\n",
            "1   France\n",
            "2    Spain\n",
            "3  Germany\n",
            "4   France\n",
            "Data after One-Hot encoding:\n",
            "    Country_France  Country_Germany  Country_Spain\n",
            "0               0                0              1\n",
            "1               1                0              0\n",
            "2               0                0              1\n",
            "3               0                1              0\n",
            "4               1                0              0\n",
            "Data after Label encoding:\n",
            "    Country\n",
            "0        2\n",
            "1        0\n",
            "2        2\n",
            "3        1\n",
            "4        0\n"
          ]
        }
      ]
    },
    {
      "cell_type": "code",
      "source": [
        "import pandas as pd\n",
        "df = pd.DataFrame([[180000, 110, 18.9, 1400],\n",
        "[360000, 905, 23.4, 1800],\n",
        "[230000, 230, 14.0, 1300],\n",
        "[60000, 450, 13.5, 1500]],\n",
        "columns=['Col A', 'Col B',\n",
        "'Col C', 'Col D'])\n",
        "# view data\n",
        "print('Original Data:\\n')"
      ],
      "metadata": {
        "colab": {
          "base_uri": "https://localhost:8080/"
        },
        "id": "iayl1vbiLNyJ",
        "outputId": "23dcf0cf-9919-4170-e569-4c4af1083af6"
      },
      "execution_count": 8,
      "outputs": [
        {
          "output_type": "stream",
          "name": "stdout",
          "text": [
            "Original Data:\n",
            "\n"
          ]
        }
      ]
    },
    {
      "cell_type": "code",
      "source": [
        "display(df)\n",
        "df_min_max_scaled = df.copy()\n",
        "# apply normalization techniques\n",
        "for column in df_min_max_scaled.columns:\n",
        "  df_min_max_scaled[column] = (df_min_max_scaled[column] -\n",
        "df_min_max_scaled[column].min()) / (df_min_max_scaled[column].max() -\n",
        "df_min_max_scaled[column].min())\n",
        "print('Normalized data:\\n')\n",
        "display(df_min_max_scaled)"
      ],
      "metadata": {
        "colab": {
          "base_uri": "https://localhost:8080/",
          "height": 367
        },
        "id": "aWZB6MinLPUe",
        "outputId": "eedee404-911e-4cb3-dd88-3179a1fa4f2c"
      },
      "execution_count": 9,
      "outputs": [
        {
          "output_type": "display_data",
          "data": {
            "text/plain": [
              "    Col A  Col B  Col C  Col D\n",
              "0  180000    110   18.9   1400\n",
              "1  360000    905   23.4   1800\n",
              "2  230000    230   14.0   1300\n",
              "3   60000    450   13.5   1500"
            ],
            "text/html": [
              "\n",
              "  <div id=\"df-443a0dd7-74d6-4fd2-8186-7462f0279ab8\">\n",
              "    <div class=\"colab-df-container\">\n",
              "      <div>\n",
              "<style scoped>\n",
              "    .dataframe tbody tr th:only-of-type {\n",
              "        vertical-align: middle;\n",
              "    }\n",
              "\n",
              "    .dataframe tbody tr th {\n",
              "        vertical-align: top;\n",
              "    }\n",
              "\n",
              "    .dataframe thead th {\n",
              "        text-align: right;\n",
              "    }\n",
              "</style>\n",
              "<table border=\"1\" class=\"dataframe\">\n",
              "  <thead>\n",
              "    <tr style=\"text-align: right;\">\n",
              "      <th></th>\n",
              "      <th>Col A</th>\n",
              "      <th>Col B</th>\n",
              "      <th>Col C</th>\n",
              "      <th>Col D</th>\n",
              "    </tr>\n",
              "  </thead>\n",
              "  <tbody>\n",
              "    <tr>\n",
              "      <th>0</th>\n",
              "      <td>180000</td>\n",
              "      <td>110</td>\n",
              "      <td>18.9</td>\n",
              "      <td>1400</td>\n",
              "    </tr>\n",
              "    <tr>\n",
              "      <th>1</th>\n",
              "      <td>360000</td>\n",
              "      <td>905</td>\n",
              "      <td>23.4</td>\n",
              "      <td>1800</td>\n",
              "    </tr>\n",
              "    <tr>\n",
              "      <th>2</th>\n",
              "      <td>230000</td>\n",
              "      <td>230</td>\n",
              "      <td>14.0</td>\n",
              "      <td>1300</td>\n",
              "    </tr>\n",
              "    <tr>\n",
              "      <th>3</th>\n",
              "      <td>60000</td>\n",
              "      <td>450</td>\n",
              "      <td>13.5</td>\n",
              "      <td>1500</td>\n",
              "    </tr>\n",
              "  </tbody>\n",
              "</table>\n",
              "</div>\n",
              "      <button class=\"colab-df-convert\" onclick=\"convertToInteractive('df-443a0dd7-74d6-4fd2-8186-7462f0279ab8')\"\n",
              "              title=\"Convert this dataframe to an interactive table.\"\n",
              "              style=\"display:none;\">\n",
              "        \n",
              "  <svg xmlns=\"http://www.w3.org/2000/svg\" height=\"24px\"viewBox=\"0 0 24 24\"\n",
              "       width=\"24px\">\n",
              "    <path d=\"M0 0h24v24H0V0z\" fill=\"none\"/>\n",
              "    <path d=\"M18.56 5.44l.94 2.06.94-2.06 2.06-.94-2.06-.94-.94-2.06-.94 2.06-2.06.94zm-11 1L8.5 8.5l.94-2.06 2.06-.94-2.06-.94L8.5 2.5l-.94 2.06-2.06.94zm10 10l.94 2.06.94-2.06 2.06-.94-2.06-.94-.94-2.06-.94 2.06-2.06.94z\"/><path d=\"M17.41 7.96l-1.37-1.37c-.4-.4-.92-.59-1.43-.59-.52 0-1.04.2-1.43.59L10.3 9.45l-7.72 7.72c-.78.78-.78 2.05 0 2.83L4 21.41c.39.39.9.59 1.41.59.51 0 1.02-.2 1.41-.59l7.78-7.78 2.81-2.81c.8-.78.8-2.07 0-2.86zM5.41 20L4 18.59l7.72-7.72 1.47 1.35L5.41 20z\"/>\n",
              "  </svg>\n",
              "      </button>\n",
              "      \n",
              "  <style>\n",
              "    .colab-df-container {\n",
              "      display:flex;\n",
              "      flex-wrap:wrap;\n",
              "      gap: 12px;\n",
              "    }\n",
              "\n",
              "    .colab-df-convert {\n",
              "      background-color: #E8F0FE;\n",
              "      border: none;\n",
              "      border-radius: 50%;\n",
              "      cursor: pointer;\n",
              "      display: none;\n",
              "      fill: #1967D2;\n",
              "      height: 32px;\n",
              "      padding: 0 0 0 0;\n",
              "      width: 32px;\n",
              "    }\n",
              "\n",
              "    .colab-df-convert:hover {\n",
              "      background-color: #E2EBFA;\n",
              "      box-shadow: 0px 1px 2px rgba(60, 64, 67, 0.3), 0px 1px 3px 1px rgba(60, 64, 67, 0.15);\n",
              "      fill: #174EA6;\n",
              "    }\n",
              "\n",
              "    [theme=dark] .colab-df-convert {\n",
              "      background-color: #3B4455;\n",
              "      fill: #D2E3FC;\n",
              "    }\n",
              "\n",
              "    [theme=dark] .colab-df-convert:hover {\n",
              "      background-color: #434B5C;\n",
              "      box-shadow: 0px 1px 3px 1px rgba(0, 0, 0, 0.15);\n",
              "      filter: drop-shadow(0px 1px 2px rgba(0, 0, 0, 0.3));\n",
              "      fill: #FFFFFF;\n",
              "    }\n",
              "  </style>\n",
              "\n",
              "      <script>\n",
              "        const buttonEl =\n",
              "          document.querySelector('#df-443a0dd7-74d6-4fd2-8186-7462f0279ab8 button.colab-df-convert');\n",
              "        buttonEl.style.display =\n",
              "          google.colab.kernel.accessAllowed ? 'block' : 'none';\n",
              "\n",
              "        async function convertToInteractive(key) {\n",
              "          const element = document.querySelector('#df-443a0dd7-74d6-4fd2-8186-7462f0279ab8');\n",
              "          const dataTable =\n",
              "            await google.colab.kernel.invokeFunction('convertToInteractive',\n",
              "                                                     [key], {});\n",
              "          if (!dataTable) return;\n",
              "\n",
              "          const docLinkHtml = 'Like what you see? Visit the ' +\n",
              "            '<a target=\"_blank\" href=https://colab.research.google.com/notebooks/data_table.ipynb>data table notebook</a>'\n",
              "            + ' to learn more about interactive tables.';\n",
              "          element.innerHTML = '';\n",
              "          dataTable['output_type'] = 'display_data';\n",
              "          await google.colab.output.renderOutput(dataTable, element);\n",
              "          const docLink = document.createElement('div');\n",
              "          docLink.innerHTML = docLinkHtml;\n",
              "          element.appendChild(docLink);\n",
              "        }\n",
              "      </script>\n",
              "    </div>\n",
              "  </div>\n",
              "  "
            ]
          },
          "metadata": {}
        },
        {
          "output_type": "stream",
          "name": "stdout",
          "text": [
            "Normalized data:\n",
            "\n"
          ]
        },
        {
          "output_type": "display_data",
          "data": {
            "text/plain": [
              "      Col A     Col B     Col C  Col D\n",
              "0  0.400000  0.000000  0.545455    0.2\n",
              "1  1.000000  1.000000  1.000000    1.0\n",
              "2  0.566667  0.150943  0.050505    0.0\n",
              "3  0.000000  0.427673  0.000000    0.4"
            ],
            "text/html": [
              "\n",
              "  <div id=\"df-e3232912-f1e0-44ea-9998-3c6c987eb950\">\n",
              "    <div class=\"colab-df-container\">\n",
              "      <div>\n",
              "<style scoped>\n",
              "    .dataframe tbody tr th:only-of-type {\n",
              "        vertical-align: middle;\n",
              "    }\n",
              "\n",
              "    .dataframe tbody tr th {\n",
              "        vertical-align: top;\n",
              "    }\n",
              "\n",
              "    .dataframe thead th {\n",
              "        text-align: right;\n",
              "    }\n",
              "</style>\n",
              "<table border=\"1\" class=\"dataframe\">\n",
              "  <thead>\n",
              "    <tr style=\"text-align: right;\">\n",
              "      <th></th>\n",
              "      <th>Col A</th>\n",
              "      <th>Col B</th>\n",
              "      <th>Col C</th>\n",
              "      <th>Col D</th>\n",
              "    </tr>\n",
              "  </thead>\n",
              "  <tbody>\n",
              "    <tr>\n",
              "      <th>0</th>\n",
              "      <td>0.400000</td>\n",
              "      <td>0.000000</td>\n",
              "      <td>0.545455</td>\n",
              "      <td>0.2</td>\n",
              "    </tr>\n",
              "    <tr>\n",
              "      <th>1</th>\n",
              "      <td>1.000000</td>\n",
              "      <td>1.000000</td>\n",
              "      <td>1.000000</td>\n",
              "      <td>1.0</td>\n",
              "    </tr>\n",
              "    <tr>\n",
              "      <th>2</th>\n",
              "      <td>0.566667</td>\n",
              "      <td>0.150943</td>\n",
              "      <td>0.050505</td>\n",
              "      <td>0.0</td>\n",
              "    </tr>\n",
              "    <tr>\n",
              "      <th>3</th>\n",
              "      <td>0.000000</td>\n",
              "      <td>0.427673</td>\n",
              "      <td>0.000000</td>\n",
              "      <td>0.4</td>\n",
              "    </tr>\n",
              "  </tbody>\n",
              "</table>\n",
              "</div>\n",
              "      <button class=\"colab-df-convert\" onclick=\"convertToInteractive('df-e3232912-f1e0-44ea-9998-3c6c987eb950')\"\n",
              "              title=\"Convert this dataframe to an interactive table.\"\n",
              "              style=\"display:none;\">\n",
              "        \n",
              "  <svg xmlns=\"http://www.w3.org/2000/svg\" height=\"24px\"viewBox=\"0 0 24 24\"\n",
              "       width=\"24px\">\n",
              "    <path d=\"M0 0h24v24H0V0z\" fill=\"none\"/>\n",
              "    <path d=\"M18.56 5.44l.94 2.06.94-2.06 2.06-.94-2.06-.94-.94-2.06-.94 2.06-2.06.94zm-11 1L8.5 8.5l.94-2.06 2.06-.94-2.06-.94L8.5 2.5l-.94 2.06-2.06.94zm10 10l.94 2.06.94-2.06 2.06-.94-2.06-.94-.94-2.06-.94 2.06-2.06.94z\"/><path d=\"M17.41 7.96l-1.37-1.37c-.4-.4-.92-.59-1.43-.59-.52 0-1.04.2-1.43.59L10.3 9.45l-7.72 7.72c-.78.78-.78 2.05 0 2.83L4 21.41c.39.39.9.59 1.41.59.51 0 1.02-.2 1.41-.59l7.78-7.78 2.81-2.81c.8-.78.8-2.07 0-2.86zM5.41 20L4 18.59l7.72-7.72 1.47 1.35L5.41 20z\"/>\n",
              "  </svg>\n",
              "      </button>\n",
              "      \n",
              "  <style>\n",
              "    .colab-df-container {\n",
              "      display:flex;\n",
              "      flex-wrap:wrap;\n",
              "      gap: 12px;\n",
              "    }\n",
              "\n",
              "    .colab-df-convert {\n",
              "      background-color: #E8F0FE;\n",
              "      border: none;\n",
              "      border-radius: 50%;\n",
              "      cursor: pointer;\n",
              "      display: none;\n",
              "      fill: #1967D2;\n",
              "      height: 32px;\n",
              "      padding: 0 0 0 0;\n",
              "      width: 32px;\n",
              "    }\n",
              "\n",
              "    .colab-df-convert:hover {\n",
              "      background-color: #E2EBFA;\n",
              "      box-shadow: 0px 1px 2px rgba(60, 64, 67, 0.3), 0px 1px 3px 1px rgba(60, 64, 67, 0.15);\n",
              "      fill: #174EA6;\n",
              "    }\n",
              "\n",
              "    [theme=dark] .colab-df-convert {\n",
              "      background-color: #3B4455;\n",
              "      fill: #D2E3FC;\n",
              "    }\n",
              "\n",
              "    [theme=dark] .colab-df-convert:hover {\n",
              "      background-color: #434B5C;\n",
              "      box-shadow: 0px 1px 3px 1px rgba(0, 0, 0, 0.15);\n",
              "      filter: drop-shadow(0px 1px 2px rgba(0, 0, 0, 0.3));\n",
              "      fill: #FFFFFF;\n",
              "    }\n",
              "  </style>\n",
              "\n",
              "      <script>\n",
              "        const buttonEl =\n",
              "          document.querySelector('#df-e3232912-f1e0-44ea-9998-3c6c987eb950 button.colab-df-convert');\n",
              "        buttonEl.style.display =\n",
              "          google.colab.kernel.accessAllowed ? 'block' : 'none';\n",
              "\n",
              "        async function convertToInteractive(key) {\n",
              "          const element = document.querySelector('#df-e3232912-f1e0-44ea-9998-3c6c987eb950');\n",
              "          const dataTable =\n",
              "            await google.colab.kernel.invokeFunction('convertToInteractive',\n",
              "                                                     [key], {});\n",
              "          if (!dataTable) return;\n",
              "\n",
              "          const docLinkHtml = 'Like what you see? Visit the ' +\n",
              "            '<a target=\"_blank\" href=https://colab.research.google.com/notebooks/data_table.ipynb>data table notebook</a>'\n",
              "            + ' to learn more about interactive tables.';\n",
              "          element.innerHTML = '';\n",
              "          dataTable['output_type'] = 'display_data';\n",
              "          await google.colab.output.renderOutput(dataTable, element);\n",
              "          const docLink = document.createElement('div');\n",
              "          docLink.innerHTML = docLinkHtml;\n",
              "          element.appendChild(docLink);\n",
              "        }\n",
              "      </script>\n",
              "    </div>\n",
              "  </div>\n",
              "  "
            ]
          },
          "metadata": {}
        }
      ]
    }
  ]
}