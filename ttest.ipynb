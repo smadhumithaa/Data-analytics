{
  "nbformat": 4,
  "nbformat_minor": 0,
  "metadata": {
    "colab": {
      "provenance": []
    },
    "kernelspec": {
      "name": "python3",
      "display_name": "Python 3"
    },
    "language_info": {
      "name": "python"
    }
  },
  "cells": [
    {
      "cell_type": "code",
      "execution_count": 4,
      "metadata": {
        "colab": {
          "base_uri": "https://localhost:8080/"
        },
        "id": "blvWN3dWCecq",
        "outputId": "455eb511-22e2-4add-d12d-25e3af33359d"
      },
      "outputs": [
        {
          "output_type": "stream",
          "name": "stdout",
          "text": [
            "Test statistic is 0.184650\n",
            "p-value for two tailed test is 0.855195\n",
            "Conclusion n Since p-value(=0.855195) > alpha(=0.05) We do not reject the null hypothesis H0.\n"
          ]
        }
      ],
      "source": [
        "Ammonium_chloride=[13.4,10.9,11.2,11.8,14,15.3,14.2,12.6,17,16.2,16.5,15.7]\n",
        "Urea=[12,11.7,10.7,11.2,14.8,14.4,13.9,13.7,16.9,16,15.6,16]\n",
        "\n",
        "from scipy import stats\n",
        "t_value,p_value=stats.ttest_ind(Ammonium_chloride,Urea)\n",
        "print('Test statistic is %f'%float(\"{:.6f}\".format(t_value)))\n",
        "print('p-value for two tailed test is %f'%p_value)\n",
        "alpha = 0.05\n",
        "if p_value<=alpha:\n",
        " print('Conclusion','n','Since p-value(=%f)'%p_value,'<','alpha(=%.2f)'%alpha,'''We reject the null hypothesis H0. So we conclude that the effect of ammonium chloride and urea on grain yield of paddy are not equal i.e., μ1 = μ2 at %.2f level of significance.'''%alpha)\n",
        "else:\n",
        " print('Conclusion','n','Since p-value(=%f)'%p_value,'>','alpha(=%.2f)'%alpha,'''We do not reject the null hypothesis H0.''')\n"
      ]
    }
  ]
}