{
  "nbformat": 4,
  "nbformat_minor": 0,
  "metadata": {
    "colab": {
      "provenance": []
    },
    "kernelspec": {
      "name": "python3",
      "display_name": "Python 3"
    },
    "language_info": {
      "name": "python"
    }
  },
  "cells": [
    {
      "cell_type": "code",
      "execution_count": null,
      "metadata": {
        "id": "-2t9Ov0m9Tq2"
      },
      "outputs": [],
      "source": [
        "import numpy as np\n",
        "import pandas as pd\n",
        "import scipy.stats as stats"
      ]
    },
    {
      "cell_type": "code",
      "source": [
        "national = pd.DataFrame([\"white\"]*100000 + [\"hispanic\"]*60000 +\\\n",
        "                        [\"black\"]*50000 + [\"asian\"]*15000 + [\"other\"]*35000)\n",
        "           \n",
        "\n",
        "minnesota = pd.DataFrame([\"white\"]*600 + [\"hispanic\"]*300 + \\\n",
        "                         [\"black\"]*250 +[\"asian\"]*75 + [\"other\"]*150)\n",
        "\n",
        "national_table = pd.crosstab(index=national[0], columns=\"count\")\n",
        "minnesota_table = pd.crosstab(index=minnesota[0], columns=\"count\")\n",
        "\n",
        "print( \"National\")\n",
        "print(national_table)\n",
        "print(\" \")\n",
        "print( \"Minnesota\")\n",
        "print(minnesota_table)"
      ],
      "metadata": {
        "colab": {
          "base_uri": "https://localhost:8080/"
        },
        "id": "Fy6ZL2_791Y7",
        "outputId": "281ebce0-847c-480a-a563-04667ea7f281"
      },
      "execution_count": null,
      "outputs": [
        {
          "output_type": "stream",
          "name": "stdout",
          "text": [
            "National\n",
            "col_0      count\n",
            "0               \n",
            "asian      15000\n",
            "black      50000\n",
            "hispanic   60000\n",
            "other      35000\n",
            "white     100000\n",
            " \n",
            "Minnesota\n",
            "col_0     count\n",
            "0              \n",
            "asian        75\n",
            "black       250\n",
            "hispanic    300\n",
            "other       150\n",
            "white       600\n"
          ]
        }
      ]
    },
    {
      "cell_type": "code",
      "source": [
        "observed = minnesota_table\n",
        "\n",
        "national_ratios = national_table/len(national)  # Get population ratios\n",
        "\n",
        "expected = national_ratios * len(minnesota)   # Get expected counts\n",
        "\n",
        "chi_squared_stat = (((observed-expected)**2)/expected).sum()\n",
        "\n",
        "print(chi_squared_stat)"
      ],
      "metadata": {
        "colab": {
          "base_uri": "https://localhost:8080/"
        },
        "id": "uzzMjzPY953I",
        "outputId": "d2bcbd71-f7b1-4086-e620-968204176c77"
      },
      "execution_count": null,
      "outputs": [
        {
          "output_type": "stream",
          "name": "stdout",
          "text": [
            "col_0\n",
            "count    18.194805\n",
            "dtype: float64\n"
          ]
        }
      ]
    },
    {
      "cell_type": "code",
      "source": [
        "crit = stats.chi2.ppf(q = 0.95, # Find the critical value for 95% confidence*\n",
        "                      df = 4)   # Df = number of variable categories - 1\n",
        "\n",
        "print(\"Critical value\")\n",
        "print(crit)\n",
        "\n",
        "p_value = 1 - stats.chi2.cdf(x=chi_squared_stat,  # Find the p-value\n",
        "                             df=4)\n",
        "print(\"P value\")\n",
        "print(p_value)"
      ],
      "metadata": {
        "colab": {
          "base_uri": "https://localhost:8080/"
        },
        "id": "VVz1nhcw99L2",
        "outputId": "6293bffe-2e1f-4681-886d-5b715431434e"
      },
      "execution_count": null,
      "outputs": [
        {
          "output_type": "stream",
          "name": "stdout",
          "text": [
            "Critical value\n",
            "9.487729036781154\n",
            "P value\n",
            "[0.00113047]\n"
          ]
        }
      ]
    },
    {
      "cell_type": "code",
      "source": [
        "stats.chisquare(f_obs= observed,   # Array of observed counts\n",
        "                f_exp= expected)   # Array of expected counts"
      ],
      "metadata": {
        "colab": {
          "base_uri": "https://localhost:8080/"
        },
        "id": "26b-NOIL-ASa",
        "outputId": "d5e9cf31-a9aa-4241-c02b-365077b12765"
      },
      "execution_count": null,
      "outputs": [
        {
          "output_type": "execute_result",
          "data": {
            "text/plain": [
              "Power_divergenceResult(statistic=array([18.19480519]), pvalue=array([0.00113047]))"
            ]
          },
          "metadata": {},
          "execution_count": 5
        }
      ]
    },
    {
      "cell_type": "code",
      "source": [],
      "metadata": {
        "id": "7GrqeBDX-cNF"
      },
      "execution_count": null,
      "outputs": []
    }
  ]
}