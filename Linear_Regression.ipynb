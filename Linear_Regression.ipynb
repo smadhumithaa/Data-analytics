{
  "nbformat": 4,
  "nbformat_minor": 0,
  "metadata": {
    "colab": {
      "provenance": []
    },
    "kernelspec": {
      "name": "python3",
      "display_name": "Python 3"
    },
    "language_info": {
      "name": "python"
    }
  },
  "cells": [
    {
      "cell_type": "code",
      "source": [
        "import numpy as np\n",
        "import pandas as pd\n",
        "from sklearn.model_selection import train_test_split\n",
        "from sklearn.linear_model import LinearRegression\n",
        "from sklearn.metrics import mean_squared_error, mean_absolute_error,r2_score\n",
        "\n",
        "path = '/content/housedata.csv'\n",
        "data = pd.read_csv(path)\n",
        "\n",
        "print(data.head())\n",
        "data.drop(['id'],axis=1)\n",
        "data.dropna(axis=0,inplace=True)\n",
        "print('Null entries after dropping NA values:',data.isnull().sum())\n",
        "clist = list(data.columns)\n",
        "features=list(set(clist)-set(['price']))\n",
        "print('Features:\\n',features)\n",
        "x = data[features].values\n",
        "y = data['price'].values\n",
        "train_x,test_x,train_y,test_y = train_test_split(x,y,test_size=0.25,random_state=2)\n",
        "modell = LinearRegression()\n",
        "modell.fit(train_x,train_y)\n",
        "prediction = modell.predict(test_x)\n",
        "print('MODEL EVALUATION:')\n",
        "mse = mean_squared_error(test_y, prediction)\n",
        "print('RMSE:', np.sqrt(mse))\n",
        "print(\"R2 : \", r2_score(test_y, prediction))\n",
        "print(\"MAE :\", mean_absolute_error(test_y, prediction))"
      ],
      "metadata": {
        "id": "eXExkN27kCXm",
        "colab": {
          "base_uri": "https://localhost:8080/"
        },
        "outputId": "d65652e8-15fe-4df9-ea68-81f6599a1298"
      },
      "execution_count": 2,
      "outputs": [
        {
          "output_type": "stream",
          "name": "stdout",
          "text": [
            "           id  date     price  bedrooms  bathrooms  sqft_living  sqft_lot  \\\n",
            "0  7129300520  2014  221900.0         3       1.00         1180      5650   \n",
            "1  6414100192  2014  538000.0         3       2.25         2570      7242   \n",
            "2  5631500400  2015  180000.0         2       1.00          770     10000   \n",
            "3  2487200875  2014  604000.0         4       3.00         1960      5000   \n",
            "4  1954400510  2015  510000.0         3       2.00         1680      8080   \n",
            "\n",
            "   floors  waterfront  view  ...  grade  sqft_above  sqft_basement  yr_built  \\\n",
            "0     1.0           0     0  ...      7        1180              0      1955   \n",
            "1     2.0           0     0  ...      7        2170            400      1951   \n",
            "2     1.0           0     0  ...      6         770              0      1933   \n",
            "3     1.0           0     0  ...      7        1050            910      1965   \n",
            "4     1.0           0     0  ...      8        1680              0      1987   \n",
            "\n",
            "   yr_renovated  zipcode      lat     long  sqft_living15  sqft_lot15  \n",
            "0             0    98178  47.5112 -122.257           1340        5650  \n",
            "1          1991    98125  47.7210 -122.319           1690        7639  \n",
            "2             0    98028  47.7379 -122.233           2720        8062  \n",
            "3             0    98136  47.5208 -122.393           1360        5000  \n",
            "4             0    98074  47.6168 -122.045           1800        7503  \n",
            "\n",
            "[5 rows x 21 columns]\n",
            "Null entries after dropping NA values: id               0\n",
            "date             0\n",
            "price            0\n",
            "bedrooms         0\n",
            "bathrooms        0\n",
            "sqft_living      0\n",
            "sqft_lot         0\n",
            "floors           0\n",
            "waterfront       0\n",
            "view             0\n",
            "condition        0\n",
            "grade            0\n",
            "sqft_above       0\n",
            "sqft_basement    0\n",
            "yr_built         0\n",
            "yr_renovated     0\n",
            "zipcode          0\n",
            "lat              0\n",
            "long             0\n",
            "sqft_living15    0\n",
            "sqft_lot15       0\n",
            "dtype: int64\n",
            "Features:\n",
            " ['grade', 'bedrooms', 'zipcode', 'condition', 'sqft_living', 'yr_built', 'sqft_basement', 'view', 'sqft_lot15', 'bathrooms', 'floors', 'sqft_lot', 'long', 'lat', 'waterfront', 'sqft_living15', 'yr_renovated', 'id', 'date', 'sqft_above']\n",
            "MODEL EVALUATION:\n",
            "RMSE: 207993.7348818954\n",
            "R2 :  0.7075076638198445\n",
            "MAE : 126907.75204004538\n"
          ]
        }
      ]
    }
  ]
}